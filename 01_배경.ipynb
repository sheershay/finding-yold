{
 "cells": [
  {
   "cell_type": "code",
   "execution_count": 14,
   "metadata": {},
   "outputs": [],
   "source": [
    "import numpy as np\n",
    "import pandas as pd\n",
    "import matplotlib.pyplot as plt\n",
    "\n",
    "plt.rcParams['font.family'] = 'Malgun Gothic'"
   ]
  },
  {
   "cell_type": "code",
   "execution_count": 15,
   "metadata": {},
   "outputs": [],
   "source": [
    "consump_dist=pd.read_excel('./가구특성별_소비지출구간별_가구분포.xlsx')"
   ]
  },
  {
   "cell_type": "code",
   "execution_count": 25,
   "metadata": {},
   "outputs": [
    {
     "data": {
      "text/html": [
       "<div>\n",
       "<style scoped>\n",
       "    .dataframe tbody tr th:only-of-type {\n",
       "        vertical-align: middle;\n",
       "    }\n",
       "\n",
       "    .dataframe tbody tr th {\n",
       "        vertical-align: top;\n",
       "    }\n",
       "\n",
       "    .dataframe thead th {\n",
       "        text-align: right;\n",
       "    }\n",
       "</style>\n",
       "<table border=\"1\" class=\"dataframe\">\n",
       "  <thead>\n",
       "    <tr style=\"text-align: right;\">\n",
       "      <th></th>\n",
       "      <th>2021년</th>\n",
       "      <th>2022년</th>\n",
       "      <th>소비지출구간</th>\n",
       "      <th>2021년_기댓값</th>\n",
       "      <th>2022년_기댓값</th>\n",
       "    </tr>\n",
       "  </thead>\n",
       "  <tbody>\n",
       "    <tr>\n",
       "      <th>count</th>\n",
       "      <td>322.000000</td>\n",
       "      <td>322.000000</td>\n",
       "      <td>322.000000</td>\n",
       "      <td>322.000000</td>\n",
       "      <td>322.000000</td>\n",
       "    </tr>\n",
       "    <tr>\n",
       "      <th>mean</th>\n",
       "      <td>14.284161</td>\n",
       "      <td>14.285714</td>\n",
       "      <td>2250.000000</td>\n",
       "      <td>369.271739</td>\n",
       "      <td>382.465839</td>\n",
       "    </tr>\n",
       "    <tr>\n",
       "      <th>std</th>\n",
       "      <td>11.793090</td>\n",
       "      <td>11.839342</td>\n",
       "      <td>1572.247632</td>\n",
       "      <td>440.275059</td>\n",
       "      <td>457.797523</td>\n",
       "    </tr>\n",
       "    <tr>\n",
       "      <th>min</th>\n",
       "      <td>0.000000</td>\n",
       "      <td>0.000000</td>\n",
       "      <td>500.000000</td>\n",
       "      <td>0.000000</td>\n",
       "      <td>0.000000</td>\n",
       "    </tr>\n",
       "    <tr>\n",
       "      <th>25%</th>\n",
       "      <td>3.725000</td>\n",
       "      <td>3.700000</td>\n",
       "      <td>750.000000</td>\n",
       "      <td>49.312500</td>\n",
       "      <td>40.500000</td>\n",
       "    </tr>\n",
       "    <tr>\n",
       "      <th>50%</th>\n",
       "      <td>12.200000</td>\n",
       "      <td>12.650000</td>\n",
       "      <td>1750.000000</td>\n",
       "      <td>239.375000</td>\n",
       "      <td>234.750000</td>\n",
       "    </tr>\n",
       "    <tr>\n",
       "      <th>75%</th>\n",
       "      <td>21.600000</td>\n",
       "      <td>21.675000</td>\n",
       "      <td>4000.000000</td>\n",
       "      <td>499.000000</td>\n",
       "      <td>534.375000</td>\n",
       "    </tr>\n",
       "    <tr>\n",
       "      <th>max</th>\n",
       "      <td>52.400000</td>\n",
       "      <td>50.500000</td>\n",
       "      <td>5000.000000</td>\n",
       "      <td>2096.000000</td>\n",
       "      <td>2320.000000</td>\n",
       "    </tr>\n",
       "  </tbody>\n",
       "</table>\n",
       "</div>"
      ],
      "text/plain": [
       "            2021년       2022년       소비지출구간    2021년_기댓값    2022년_기댓값\n",
       "count  322.000000  322.000000   322.000000   322.000000   322.000000\n",
       "mean    14.284161   14.285714  2250.000000   369.271739   382.465839\n",
       "std     11.793090   11.839342  1572.247632   440.275059   457.797523\n",
       "min      0.000000    0.000000   500.000000     0.000000     0.000000\n",
       "25%      3.725000    3.700000   750.000000    49.312500    40.500000\n",
       "50%     12.200000   12.650000  1750.000000   239.375000   234.750000\n",
       "75%     21.600000   21.675000  4000.000000   499.000000   534.375000\n",
       "max     52.400000   50.500000  5000.000000  2096.000000  2320.000000"
      ]
     },
     "execution_count": 25,
     "metadata": {},
     "output_type": "execute_result"
    }
   ],
   "source": [
    "consump_dist.describe()"
   ]
  }
 ],
 "metadata": {
  "kernelspec": {
   "display_name": "Python 3",
   "language": "python",
   "name": "python3"
  },
  "language_info": {
   "codemirror_mode": {
    "name": "ipython",
    "version": 3
   },
   "file_extension": ".py",
   "mimetype": "text/x-python",
   "name": "python",
   "nbconvert_exporter": "python",
   "pygments_lexer": "ipython3",
   "version": "3.10.6"
  }
 },
 "nbformat": 4,
 "nbformat_minor": 2
}
